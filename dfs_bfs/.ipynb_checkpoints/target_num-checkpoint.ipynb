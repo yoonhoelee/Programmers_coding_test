{
 "cells": [
  {
   "cell_type": "markdown",
   "metadata": {},
   "source": [
    "# 문제 설명\n",
    "n개의 음이 아닌 정수가 있습니다. 이 수를 적절히 더하거나 빼서 타겟 넘버를 만들려고 합니다. 예를 들어 [1, 1, 1, 1, 1]로 숫자 3을 만들려면 다섯 방법을 쓸 수 있습니다.\n",
    "-1+1+1+1+1 = 3\n",
    "+1-1+1+1+1 = 3\n",
    "+1+1-1+1+1 = 3\n",
    "+1+1+1-1+1 = 3\n",
    "+1+1+1+1-1 = 3\n",
    "\n",
    "사용할 수 있는 숫자가 담긴 배열 numbers, 타겟 넘버 target이 매개변수로 주어질 때 숫자를 적절히 더하고 빼서 타겟 넘버를 만드는 방법의 수를 return 하도록 solution 함수를 작성해주세요.\n",
    "\n",
    "# 제한사항\n",
    "주어지는 숫자의 개수는 2개 이상 20개 이하입니다.\n",
    "각 숫자는 1 이상 50 이하인 자연수입니다.\n",
    "타겟 넘버는 1 이상 1000 이하인 자연수입니다.\n",
    "\n",
    "# 출처\n",
    "https://programmers.co.kr/learn/courses/30/lessons/43165?language=python3"
   ]
  },
  {
   "cell_type": "code",
   "execution_count": 1,
   "metadata": {},
   "outputs": [
    {
     "data": {
      "text/plain": [
       "5"
      ]
     },
     "execution_count": 1,
     "metadata": {},
     "output_type": "execute_result"
    }
   ],
   "source": [
    "numbers=[1,1,1,1,1]\n",
    "\n",
    "def solution(numbers, target):\n",
    "    #슈퍼노드인 0을 설정\n",
    "    answer = [0]\n",
    "    #리스트 컴프리헨션으로 numbers 안의 값들을 해석 해준 후 그 값들을 더해주거나 뺴주면서 빈 리스트에 append해준다. 일종의 트리를 만든다고 생각하면 될 것 같다.\n",
    "    for i in numbers:\n",
    "        prob=[]\n",
    "        for j in answer:\n",
    "            prob.append(j+i)\n",
    "            prob.append(j-i)\n",
    "        answer=prob\n",
    "        #이 중 타겟값과 같은 값을 갖는 값들을 세준다.\n",
    "    return answer.count(target)\n",
    "\n",
    "solution(numbers,3)    "
   ]
  },
  {
   "cell_type": "markdown",
   "metadata": {},
   "source": [
    "사실 이 문제가 왜 bfs와 dfs와 관련이 있는지 처음에는 알지 못했다. 처음에는 divide and conquer method으로 풀 수 있을지 않을까 했는데, 슈퍼노드를 활용하고 그 이후 i를 더하고 빼는 형식으로 트리를 구성해서 타겟에 맞는 값이 나오는 값들을 세주면 방식으로 풀면 되겠다는 것을 알게 되었다."
   ]
  }
 ],
 "metadata": {
  "kernelspec": {
   "display_name": "Python 3",
   "language": "python",
   "name": "python3"
  },
  "language_info": {
   "codemirror_mode": {
    "name": "ipython",
    "version": 3
   },
   "file_extension": ".py",
   "mimetype": "text/x-python",
   "name": "python",
   "nbconvert_exporter": "python",
   "pygments_lexer": "ipython3",
   "version": "3.8.5"
  }
 },
 "nbformat": 4,
 "nbformat_minor": 4
}
