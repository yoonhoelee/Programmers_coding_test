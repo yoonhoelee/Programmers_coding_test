{
 "cells": [
  {
   "cell_type": "markdown",
   "metadata": {},
   "source": [
    "# 문제 설명\n",
    "프로그래머스 팀에서는 기능 개선 작업을 수행 중입니다. 각 기능은 진도가 100%일 때 서비스에 반영할 수 있습니다.\n",
    "\n",
    "또, 각 기능의 개발속도는 모두 다르기 때문에 뒤에 있는 기능이 앞에 있는 기능보다 먼저 개발될 수 있고, 이때 뒤에 있는 기능은 앞에 있는 기능이 배포될 때 함께 배포됩니다.\n",
    "\n",
    "먼저 배포되어야 하는 순서대로 작업의 진도가 적힌 정수 배열 progresses와 각 작업의 개발 속도가 적힌 정수 배열 speeds가 주어질 때 각 배포마다 몇 개의 기능이 배포되는지를 return 하도록 solution 함수를 완성하세요.\n",
    "\n",
    "# 제한 사항\n",
    "작업의 개수(progresses, speeds배열의 길이)는 100개 이하입니다.\n",
    "작업 진도는 100 미만의 자연수입니다.\n",
    "작업 속도는 100 이하의 자연수입니다.\n",
    "배포는 하루에 한 번만 할 수 있으며, 하루의 끝에 이루어진다고 가정합니다. 예를 들어 진도율이 95%인 작업의 개발 속도가 하루에 4%라면 배포는 2일 뒤에 이루어집니다.\n",
    "\n",
    "# 입출력 예\n",
    "progresses=[93,30,55]\n",
    "speeds=[1,30,5]\n",
    "returns=[2,1]\n",
    "\n",
    "# 입출력 예 설명\n",
    "첫 번째 기능은 93% 완료되어 있고 하루에 1%씩 작업이 가능하므로 7일간 작업 후 배포가 가능합니다.\n",
    "두 번째 기능은 30%가 완료되어 있고 하루에 30%씩 작업이 가능하므로 3일간 작업 후 배포가 가능합니다. 하지만 이전 첫 번째 기능이 아직 완성된 상태가 아니기 때문에 첫 번째 기능이 배포되는 7일째 배포됩니다.\n",
    "세 번째 기능은 55%가 완료되어 있고 하루에 5%씩 작업이 가능하므로 9일간 작업 후 배포가 가능합니다.\n",
    "\n",
    "따라서 7일째에 2개의 기능, 9일째에 1개의 기능이 배포됩니다.\n",
    "\n",
    "# 출처\n",
    "https://programmers.co.kr/learn/courses/30/lessons/42586?language=python3"
   ]
  },
  {
   "cell_type": "code",
   "execution_count": 48,
   "metadata": {},
   "outputs": [
    {
     "name": "stdout",
     "output_type": "stream",
     "text": [
      "[2, 1]\n",
      "[1, 3, 2]\n"
     ]
    }
   ],
   "source": [
    "from collections import deque\n",
    "\n",
    "def solution(progresses, speeds):\n",
    "    answers=[]\n",
    "    p=deque(progresses)\n",
    "    s=deque(speeds)\n",
    "    while p:\n",
    "        for i in range(len(p)):\n",
    "            p[i]+=s[i]\n",
    "        count=0\n",
    "        while p and p[0]>=100:\n",
    "            p.popleft()\n",
    "            s.popleft()\n",
    "            count+=1\n",
    "        if count:\n",
    "            answers.append(count)\n",
    "    return answers\n",
    "            \n",
    "\n",
    "print(solution([93,30,55], [1,30,5]))\n",
    "print(solution([95, 90, 99, 99, 80, 99], [1, 1, 1, 1, 1, 1]))"
   ]
  },
  {
   "cell_type": "markdown",
   "metadata": {},
   "source": [
    "# 풀이 \n",
    "코드의 효율성을 위해 deque를 import 해주고 progress와 speeds를 deque형태로 변환한 후 각각 p, s로 지정해준다. p에 s의 값을 더해준다. p의 첫값이 100이 넘을때까지 이 과정을 반복해주고 100이 넘는 값들을 pop 시키고 count의 값을 올려준다. 마지막으로 이 카운트값을 반환해준다.\n",
    "\n",
    "# 느낀점\n",
    "처음에는 각 프로그램이 걸리는 시간을 math.ceil()을 사용해서 구해준 후 빈 리스트에 append한 후 이 리스트를 리스트 컴프리헨션과 반복문을 통해서 결과를 도출하려고 했었다. 첫번째 예시는 정상적으로 출력이 되었으나, 두번째 예시에서 동일한 progress와 speeds가 있을 경우는 생각처럼 잘 해결되지 않았다. 다른 사람의 풀이를 참고하였는데 문제를 완전 다른 방식으로 접근을 했는데 놀라웠다. 세상에는 참 똑똑한 사람이 많은 것 같다."
   ]
  }
 ],
 "metadata": {
  "kernelspec": {
   "display_name": "Python 3",
   "language": "python",
   "name": "python3"
  },
  "language_info": {
   "codemirror_mode": {
    "name": "ipython",
    "version": 3
   },
   "file_extension": ".py",
   "mimetype": "text/x-python",
   "name": "python",
   "nbconvert_exporter": "python",
   "pygments_lexer": "ipython3",
   "version": "3.8.5"
  }
 },
 "nbformat": 4,
 "nbformat_minor": 4
}
