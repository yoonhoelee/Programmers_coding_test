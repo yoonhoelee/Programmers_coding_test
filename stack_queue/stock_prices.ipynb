{
 "cells": [
  {
   "cell_type": "markdown",
   "metadata": {},
   "source": [
    "# 문제 설명\n",
    "초 단위로 기록된 주식가격이 담긴 배열 prices가 매개변수로 주어질 때, 가격이 떨어지지 않은 기간은 몇 초인지를 return 하도록 solution 함수를 완성하세요.\n",
    "\n",
    "# 제한사항\n",
    "prices의 각 가격은 1 이상 10,000 이하인 자연수입니다.\n",
    "prices의 길이는 2 이상 100,000 이하입니다.\n",
    "\n",
    "# 입출력 예\n",
    "prices=[1,2,3,2,3]\n",
    "return=[4,3,1,1,0]\n",
    "\n",
    "# 입출력 예 설명\n",
    "1초 시점의 ₩1은 끝까지 가격이 떨어지지 않았습니다.\n",
    "2초 시점의 ₩2은 끝까지 가격이 떨어지지 않았습니다.\n",
    "3초 시점의 ₩3은 1초뒤에 가격이 떨어집니다. 따라서 1초간 가격이 떨어지지 않은 것으로 봅니다.\n",
    "4초 시점의 ₩2은 1초간 가격이 떨어지지 않았습니다.\n",
    "5초 시점의 ₩3은 0초간 가격이 떨어지지 않았습니다.\n",
    "\n",
    "# 출처\n",
    "https://programmers.co.kr/learn/courses/30/lessons/42584?language=python3"
   ]
  },
  {
   "cell_type": "code",
   "execution_count": 24,
   "metadata": {},
   "outputs": [
    {
     "data": {
      "text/plain": [
       "[4, 3, 1, 1, 0]"
      ]
     },
     "execution_count": 24,
     "metadata": {},
     "output_type": "execute_result"
    }
   ],
   "source": [
    "from collections import deque\n",
    "\n",
    "def solution(prices):\n",
    "    answer=[]\n",
    "    p=deque(prices)\n",
    "    while len(p)>0:\n",
    "        a=p.popleft()\n",
    "        b=0\n",
    "        for i in p:\n",
    "            b+=1\n",
    "            if a>i:\n",
    "                break\n",
    "        answer.append(b)\n",
    "    return answer\n",
    "\n",
    "solution([1,2,3,2,3])"
   ]
  },
  {
   "cell_type": "markdown",
   "metadata": {},
   "source": [
    "# 풀이\n",
    "prices라는 리스트를 double-ended que형태로 바꿔 준다. 해당 deque의 길이가 0보다 클때 반복문이 돌게하며 계속 deque의 왼쪽 값을 pop하게 해준다. 이때 list comprehension을 이용해서 deque내 요소와 비교하여 카운트를 올려주고 주가가 현재보다 낮다면 함수를 탈출해주고 카운트 값을 빈 리스트에 append 해준다.\n",
    "\n",
    "# 느낀점\n",
    "처음에는 prices에서 팝을 하는 방식의 listpop을 진행했다. 하지만 리스트팝은 O(N)의 시간복잡도를 deque에서의 pop은 O(1)의 복잡도를 갖기 때문에 deque를 써서 popleft하는 것이 보다 효율적일 것이라고 판단해서 코드를 짰다. 처음에 문제 해석을 하는데 애를 먹었지만, 해석을 하고 코드를 구현하는 것은 비교적 수월했던 것 같다."
   ]
  }
 ],
 "metadata": {
  "kernelspec": {
   "display_name": "Python 3",
   "language": "python",
   "name": "python3"
  },
  "language_info": {
   "codemirror_mode": {
    "name": "ipython",
    "version": 3
   },
   "file_extension": ".py",
   "mimetype": "text/x-python",
   "name": "python",
   "nbconvert_exporter": "python",
   "pygments_lexer": "ipython3",
   "version": "3.8.5"
  }
 },
 "nbformat": 4,
 "nbformat_minor": 4
}
