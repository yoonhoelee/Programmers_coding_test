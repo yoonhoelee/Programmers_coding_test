{
 "cells": [
  {
   "cell_type": "markdown",
   "metadata": {},
   "source": [
    "# 문제 설명\n",
    "일반적인 프린터는 인쇄 요청이 들어온 순서대로 인쇄합니다. 그렇기 때문에 중요한 문서가 나중에 인쇄될 수 있습니다. 이런 문제를 보완하기 위해 중요도가 높은 문서를 먼저 인쇄하는 프린터를 개발했습니다. 이 새롭게 개발한 프린터는 아래와 같은 방식으로 인쇄 작업을 수행합니다.\n",
    "\n",
    "1. 인쇄 대기목록의 가장 앞에 있는 문서(J)를 대기목록에서 꺼냅니다.\n",
    "2. 나머지 인쇄 대기목록에서 J보다 중요도가 높은 문서가 한 개라도 존재하면 J를 대기목록의 가장 마지막에 넣습니다.\n",
    "3. 그렇지 않으면 J를 인쇄합니다.\n",
    "\n",
    "예를 들어, 4개의 문서(A, B, C, D)가 순서대로 인쇄 대기목록에 있고 중요도가 2 1 3 2 라면 C D A B 순으로 인쇄하게 됩니다.\n",
    "\n",
    "내가 인쇄를 요청한 문서가 몇 번째로 인쇄되는지 알고 싶습니다. 위의 예에서 C는 1번째로, A는 3번째로 인쇄됩니다.\n",
    "\n",
    "현재 대기목록에 있는 문서의 중요도가 순서대로 담긴 배열 priorities와 내가 인쇄를 요청한 문서가 현재 대기목록의 어떤 위치에 있는지를 알려주는 location이 매개변수로 주어질 때, 내가 인쇄를 요청한 문서가 몇 번째로 인쇄되는지 return 하도록 solution 함수를 작성해주세요.\n",
    "\n",
    "# 제한사항\n",
    "현재 대기목록에는 1개 이상 100개 이하의 문서가 있습니다.\n",
    "인쇄 작업의 중요도는 1~9로 표현하며 숫자가 클수록 중요하다는 뜻입니다.\n",
    "location은 0 이상 (현재 대기목록에 있는 작업 수 - 1) 이하의 값을 가지며 대기목록의 가장 앞에 있으면 0, 두 번째에 있으면 1로 표현합니다.\n",
    "\n",
    "ex 1)\n",
    "priorities = [2, 1, 3, 2]\n",
    "location = 2\n",
    "return = 1\n",
    "\n",
    "ex 2)\n",
    "priorities = [1, 1, 9, 1, 1, 1]\n",
    "location = 0\n",
    "return = 5\n",
    "\n",
    "# 입출력 예 설명\n",
    "예제 #1\n",
    "\n",
    "문제에 나온 예와 같습니다.\n",
    "\n",
    "예제 #2\n",
    "\n",
    "6개의 문서(A, B, C, D, E, F)가 인쇄 대기목록에 있고 중요도가 1 1 9 1 1 1 이므로 C D E F A B 순으로 인쇄합니다.\n",
    "\n",
    "# from\n",
    "https://programmers.co.kr/learn/courses/30/lessons/42587?language=python3"
   ]
  },
  {
   "cell_type": "code",
   "execution_count": 5,
   "metadata": {},
   "outputs": [
    {
     "name": "stdout",
     "output_type": "stream",
     "text": [
      "1\n",
      "5\n"
     ]
    }
   ],
   "source": [
    "from collections import deque\n",
    "\n",
    "def solution(priorities, location):\n",
    "    answer = 0\n",
    "\n",
    "    d = deque([(v,i) for i,v in enumerate(priorities)])\n",
    "\n",
    "    while len(d):\n",
    "        item = d.popleft()\n",
    "        if d and max(d)[0] > item[0]:\n",
    "            d.append(item)\n",
    "        else:\n",
    "            answer += 1\n",
    "            if item[1] == location:\n",
    "                break\n",
    "    return answer\n",
    "\n",
    "print(solution([2, 1, 3, 2], 2))\n",
    "print(solution([1, 1, 9, 1, 1, 1], 0))"
   ]
  },
  {
   "cell_type": "markdown",
   "metadata": {},
   "source": [
    "# 풀이\n",
    "priorities를 enumerate해서 값과 위치를 설정해주고, 코드의 효율성을 위해 deque 형태로 변환해준다.\n",
    "deque의 왼쪽값을 pop해주는 반복문을 만들어 이 값이 최대값이 아니면 deque의 가장 마지막에 추가를 해준다.\n",
    "최대값일 경우 location값이 deque의 위치변수와 일치하는 값이 나올때까지 1을 더해주고, location 변수와 일치하면 반복문을 탈출해준다.\n",
    "\n",
    "# 느낀점\n",
    "이제는 비교적 deque를 쓰는것이 익숙해진 것 같다. \n",
    "꾸준하게 알고리즘 공부를 해나가야겠다."
   ]
  }
 ],
 "metadata": {
  "kernelspec": {
   "display_name": "Python 3",
   "language": "python",
   "name": "python3"
  },
  "language_info": {
   "codemirror_mode": {
    "name": "ipython",
    "version": 3
   },
   "file_extension": ".py",
   "mimetype": "text/x-python",
   "name": "python",
   "nbconvert_exporter": "python",
   "pygments_lexer": "ipython3",
   "version": "3.8.5"
  }
 },
 "nbformat": 4,
 "nbformat_minor": 4
}
