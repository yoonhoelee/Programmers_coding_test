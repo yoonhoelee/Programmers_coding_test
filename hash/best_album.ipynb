{
 "cells": [
  {
   "cell_type": "markdown",
   "metadata": {},
   "source": [
    "# 문제 설명\n",
    "스트리밍 사이트에서 장르 별로 가장 많이 재생된 노래를 두 개씩 모아 베스트 앨범을 출시하려 합니다. 노래는 고유 번호로 구분하며, 노래를 수록하는 기준은 다음과 같습니다.\n",
    "\n",
    "속한 노래가 많이 재생된 장르를 먼저 수록합니다.\n",
    "장르 내에서 많이 재생된 노래를 먼저 수록합니다.\n",
    "장르 내에서 재생 횟수가 같은 노래 중에서는 고유 번호가 낮은 노래를 먼저 수록합니다.\n",
    "노래의 장르를 나타내는 문자열 배열 genres와 노래별 재생 횟수를 나타내는 정수 배열 plays가 주어질 때, 베스트 앨범에 들어갈 노래의 고유 번호를 순서대로 return 하도록 solution 함수를 완성하세요.\n",
    "\n",
    "제한사항\n",
    "genres[i]는 고유번호가 i인 노래의 장르입니다.\n",
    "plays[i]는 고유번호가 i인 노래가 재생된 횟수입니다.\n",
    "genres와 plays의 길이는 같으며, 이는 1 이상 10,000 이하입니다.\n",
    "장르 종류는 100개 미만입니다.\n",
    "장르에 속한 곡이 하나라면, 하나의 곡만 선택합니다.\n",
    "모든 장르는 재생된 횟수가 다릅니다.\n",
    "\n",
    "# 입출력 예\n",
    "genres = [\"classic\", \"pop\", \"classic\", \"classic\", \"pop\"]\n",
    "plays = [500, 600, 150, 800, 2500]\n",
    "return = [4, 1, 3, 0]\n",
    "\n",
    "# 입출력 예 설명\n",
    "classic 장르는 1,450회 재생되었으며, classic 노래는 다음과 같습니다.\n",
    "\n",
    "고유 번호 3: 800회 재생\n",
    "고유 번호 0: 500회 재생\n",
    "고유 번호 2: 150회 재생\n",
    "pop 장르는 3,100회 재생되었으며, pop 노래는 다음과 같습니다.\n",
    "\n",
    "고유 번호 4: 2,500회 재생\n",
    "고유 번호 1: 600회 재생\n",
    "따라서 pop 장르의 [4, 1]번 노래를 먼저, classic 장르의 [3, 0]번 노래를 그다음에 수록합니다.\n",
    "\n",
    "# 출처\n",
    "https://programmers.co.kr/learn/courses/30/lessons/42579?language=python3"
   ]
  },
  {
   "cell_type": "code",
   "execution_count": 10,
   "metadata": {},
   "outputs": [
    {
     "data": {
      "text/plain": [
       "[4, 1, 3, 0]"
      ]
     },
     "execution_count": 10,
     "metadata": {},
     "output_type": "execute_result"
    }
   ],
   "source": [
    "def solution(genres, plays):\n",
    "    answer = []\n",
    "    playsDict = {}\n",
    "    d = { }\n",
    "\n",
    "\n",
    "    for i in range(len(genres)):\n",
    "        genre = genres[i]\n",
    "        play = plays[i]\n",
    "        playsDict[genre] = playsDict.get(genre, 0) + play\n",
    "        d[genre] = d.get(genre, []) + [ (play, i) ]\n",
    "        \n",
    "    genreSort = sorted(playsDict.items(), key=lambda x: x[1], reverse=True) \n",
    "\n",
    "    for (genre, totalPlay) in genreSort:\n",
    "        d[genre] = sorted(d[genre], key=lambda x: (-x[0], x[1]))\n",
    "        answer += [ idx for (play, idx) in d[genre][:2] ]\n",
    "    \n",
    "    return answer\n",
    "\n",
    "solution([\"classic\", \"pop\", \"classic\", \"classic\", \"pop\"], [500, 600, 150, 800, 2500])"
   ]
  },
  {
   "cell_type": "markdown",
   "metadata": {},
   "source": [
    "# 풀이\n",
    "1. { 장르 : 총 재생 횟수 } 해시, { 장르 : [ { 플레이 횟수 : 고유 번호 } ] } 해시를 만듭니다.\n",
    "2. 음악 개수만큼 장르와, 플레이 횟수가 들어있는 배열들을 순회하여, 2개의 해시를 초기화합니다.\n",
    "3. { 장르 : 총 재생 횟수 } 해시를 기초로 총 재생 횟수 내림 차순으로 장르들을 정렬합니다.\n",
    "4. 3번에 의해 정렬된 장르에 대해서 다음을 순회합니다.\n",
    "    1. 장르 내에서도 플레이 횟수 내림차순, 고유 번호 오름차순 별로 정렬합니다.\n",
    "    2. 장르 내에서 최대 2개까지 뽑습니다.\n",
    "출처: https://gurumee92.tistory.com/159\n",
    "\n",
    "# 느낀점\n",
    "이번 문제는 머릿 속으로 어떻게 풀지에 대해서는 대충 그려졌지만, 코드로 구현하는데는 많은 어려움이 있었다. 인터넷에서 다른 분이 푼 것을 보고 참조해봤는데, 참 이해하기 쉽게 설명을 잘해주신 것 같다. 아직 훨씬 많은 공부가 필요할 것이라고 생각된다."
   ]
  }
 ],
 "metadata": {
  "kernelspec": {
   "display_name": "Python 3",
   "language": "python",
   "name": "python3"
  },
  "language_info": {
   "codemirror_mode": {
    "name": "ipython",
    "version": 3
   },
   "file_extension": ".py",
   "mimetype": "text/x-python",
   "name": "python",
   "nbconvert_exporter": "python",
   "pygments_lexer": "ipython3",
   "version": "3.8.5"
  }
 },
 "nbformat": 4,
 "nbformat_minor": 4
}
