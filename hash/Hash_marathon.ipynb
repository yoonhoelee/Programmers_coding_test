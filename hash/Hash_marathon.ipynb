{
 "cells": [
  {
   "cell_type": "markdown",
   "metadata": {},
   "source": [
    "문제 설명\n",
    "수많은 마라톤 선수들이 마라톤에 참여하였습니다. 단 한 명의 선수를 제외하고는 모든 선수가 마라톤을 완주하였습니다.\n",
    "\n",
    "마라톤에 참여한 선수들의 이름이 담긴 배열 participant와 완주한 선수들의 이름이 담긴 배열 completion이 주어질 때, 완주하지 못한 선수의 이름을 return 하도록 solution 함수를 작성해주세요.\n",
    "\n",
    "제한사항\n",
    "마라톤 경기에 참여한 선수의 수는 1명 이상 100,000명 이하입니다.\n",
    "completion의 길이는 participant의 길이보다 1 작습니다.\n",
    "참가자의 이름은 1개 이상 20개 이하의 알파벳 소문자로 이루어져 있습니다.\n",
    "참가자 중에는 동명이인이 있을 수 있습니다.\n",
    "\n",
    "예제 #1\n",
    "leo는 참여자 명단에는 있지만, 완주자 명단에는 없기 때문에 완주하지 못했습니다.\n",
    "\n",
    "예제 #2\n",
    "vinko는 참여자 명단에는 있지만, 완주자 명단에는 없기 때문에 완주하지 못했습니다.\n",
    "\n",
    "예제 #3\n",
    "mislav는 참여자 명단에는 두 명이 있지만, 완주자 명단에는 한 명밖에 없기 때문에 한명은 완주하지 못했습니다.\n",
    "\n",
    "출처: https://programmers.co.kr/learn/courses/30/lessons/42576?language=python3"
   ]
  },
  {
   "cell_type": "code",
   "execution_count": 27,
   "metadata": {},
   "outputs": [
    {
     "data": {
      "text/plain": [
       "'leo'"
      ]
     },
     "execution_count": 27,
     "metadata": {},
     "output_type": "execute_result"
    }
   ],
   "source": [
    "participant=[\"leo\", \"kiki\", \"eden\"]\n",
    "completion= [\"eden\", \"kiki\"]\n",
    "\n",
    "def solution(participant, completion):\n",
    "\n",
    "    answer = ''\n",
    "    temp = 0\n",
    "    dic = {}\n",
    "    for i in participant:\n",
    "        #리스트 컴프리헨션으로 participants 안의 값을 해시값으로 변경해주고 빈 dictionary에 저장해준다. 해시값이 키값으로 설정되고 리스트의 값이 value로 저장이 된다\n",
    "        dic[hash(i)] = i\n",
    "        temp += int(hash(i))\n",
    "    #completion이라는 리스트 안에 있는 값들 역시 해시값으로 처리해주며 이 해시값들을 갖고 있는 데이터를 dic에서 제거해준다\n",
    "    for j in completion:\n",
    "        temp -= hash(j)\n",
    "    answer = dic[temp]\n",
    "\n",
    "    return answer\n",
    "solution(participant, completion)"
   ]
  },
  {
   "cell_type": "markdown",
   "metadata": {},
   "source": [
    "처음에는 리스트 컴프리헨션으로 \"if i not in j\"라는 방식으로 처리를 해주려 했으나, 이와 같은 방법은 동명이인의 경우 처리를 해주는 것이 힘들다는 것을 알게 되었다.\n",
    "인터넷을 참조하여 풀어봤는데, 아직은 해시 테이블에 대한 이해도가 부족한 것 같다.\n",
    "보다 열심히 연습해봐야 할 것 같다."
   ]
  }
 ],
 "metadata": {
  "kernelspec": {
   "display_name": "Python 3",
   "language": "python",
   "name": "python3"
  },
  "language_info": {
   "codemirror_mode": {
    "name": "ipython",
    "version": 3
   },
   "file_extension": ".py",
   "mimetype": "text/x-python",
   "name": "python",
   "nbconvert_exporter": "python",
   "pygments_lexer": "ipython3",
   "version": "3.8.5"
  }
 },
 "nbformat": 4,
 "nbformat_minor": 4
}
