{
 "cells": [
  {
   "cell_type": "markdown",
   "metadata": {},
   "source": [
    "# 문제 설명\n",
    "전화번호부에 적힌 전화번호 중, 한 번호가 다른 번호의 접두어인 경우가 있는지 확인하려 합니다.\n",
    "전화번호가 다음과 같을 경우, 구조대 전화번호는 영석이의 전화번호의 접두사입니다.\n",
    "\n",
    "구조대 : 119\n",
    "박준영 : 97 674 223\n",
    "지영석 : 11 9552 4421\n",
    "전화번호부에 적힌 전화번호를 담은 배열 phone_book 이 solution 함수의 매개변수로 주어질 때, 어떤 번호가 다른 번호의 접두어인 경우가 있으면 false를 그렇지 않으면 true를 return 하도록 solution 함수를 작성해주세요.\n",
    "\n",
    "# 제한 사항\n",
    "phone_book의 길이는 1 이상 1,000,000 이하입니다.\n",
    "각 전화번호의 길이는 1 이상 20 이하입니다.\n",
    "\n",
    "phone_book=[\"119\", \"97674223\", \"1195524421\"]\n",
    "return=false\n",
    "\n",
    "# 입출력 예 설명\n",
    "입출력 예 #1\n",
    "앞에서 설명한 예와 같습니다.\n",
    "\n",
    "입출력 예 #2\n",
    "한 번호가 다른 번호의 접두사인 경우가 없으므로, 답은 true입니다.\n",
    "\n",
    "입출력 예 #3\n",
    "첫 번째 전화번호, “12”가 두 번째 전화번호 “123”의 접두사입니다. 따라서 답은 false입니다.\n",
    "\n",
    "# 출처\n",
    "https://programmers.co.kr/learn/courses/30/lessons/42577?language=python3"
   ]
  },
  {
   "cell_type": "code",
   "execution_count": 4,
   "metadata": {},
   "outputs": [
    {
     "name": "stdout",
     "output_type": "stream",
     "text": [
      "False\n",
      "True\n"
     ]
    }
   ],
   "source": [
    "def solution(phone_book):\n",
    "    answer=True\n",
    "    phone_book.sort()\n",
    "    for i in range(len(phone_book)-1):\n",
    "        if phone_book[i] in phone_book[i+1]:\n",
    "            answer=False\n",
    "            break\n",
    "    return answer\n",
    "\n",
    "print(solution([\"119\", \"97674223\", \"1195524421\"]))\n",
    "print(solution([\"123\",\"456\",\"789\"]))"
   ]
  },
  {
   "cell_type": "markdown",
   "metadata": {},
   "source": [
    "# 풀이\n",
    "프로그래머스에서는 해시테이블 문제로 분류를 하였지만, sort와 for문을 사용해서 풀 수 있다고 판단하여, for문을 사용해서 풀었다. 리스트를 sort하게 된다면 길이가 짧은 값부터 순차적으로 배열이 된다. For문을 돌면서 앞의 값이 뒤값에 포함이 되어 있으면 answer 값을 default 값인 True에서 False로 수정하여 answer을 반환하게 한다.\n",
    "\n",
    "# 느낀점\n",
    "처음에 해시 테이블 관련 문제라고 하여 해시테이블을 어떻게 활용해야 할지 고민을 많이 했었다. 모든 프로그램은 조건문과 반복문으로 만들 수 있다는 말이 있는데, 어느정도 일리가 있는 말인것 같다."
   ]
  }
 ],
 "metadata": {
  "kernelspec": {
   "display_name": "Python 3",
   "language": "python",
   "name": "python3"
  },
  "language_info": {
   "codemirror_mode": {
    "name": "ipython",
    "version": 3
   },
   "file_extension": ".py",
   "mimetype": "text/x-python",
   "name": "python",
   "nbconvert_exporter": "python",
   "pygments_lexer": "ipython3",
   "version": "3.8.5"
  }
 },
 "nbformat": 4,
 "nbformat_minor": 4
}
