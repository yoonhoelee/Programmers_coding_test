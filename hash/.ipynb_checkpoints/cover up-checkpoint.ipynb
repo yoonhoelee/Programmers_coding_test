{
 "cells": [
  {
   "cell_type": "markdown",
   "metadata": {},
   "source": [
    "# 문제 설명\n",
    "스파이들은 매일 다른 옷을 조합하여 입어 자신을 위장합니다.\n",
    "\n",
    "예를 들어 스파이가 가진 옷이 아래와 같고 오늘 스파이가 동그란 안경, 긴 코트, 파란색 티셔츠를 입었다면 다음날은 청바지를 추가로 입거나 동그란 안경 대신 검정 선글라스를 착용하거나 해야 합니다.\n",
    "\n",
    "종류\t이름\n",
    "얼굴\t동그란 안경, 검정 선글라스\n",
    "상의\t파란색 티셔츠\n",
    "하의\t청바지\n",
    "겉옷\t긴 코트\n",
    "\n",
    "스파이가 가진 의상들이 담긴 2차원 배열 clothes가 주어질 때 서로 다른 옷의 조합의 수를 return 하도록 solution 함수를 작성해주세요.\n",
    "\n",
    "# 제한사항\n",
    "clothes의 각 행은 [의상의 이름, 의상의 종류]로 이루어져 있습니다.\n",
    "스파이가 가진 의상의 수는 1개 이상 30개 이하입니다.\n",
    "같은 이름을 가진 의상은 존재하지 않습니다.\n",
    "clothes의 모든 원소는 문자열로 이루어져 있습니다.\n",
    "모든 문자열의 길이는 1 이상 20 이하인 자연수이고 알파벳 소문자 또는 '_' 로만 이루어져 있습니다.\n",
    "스파이는 하루에 최소 한 개의 의상은 입습니다.\n",
    "\n",
    "clothes=[[\"yellow_hat\", \"headgear\"], [\"blue_sunglasses\", \"eyewear\"], [\"green_turban\", \"headgear\"]]\n",
    "return=5\n",
    "\n",
    "# 입출력 예 설명\n",
    "예제 #1\n",
    "headgear에 해당하는 의상이 yellow_hat, green_turban이고 eyewear에 해당하는 의상이 blue_sunglasses이므로 아래와 같이 5개의 조합이 가능합니다.\n",
    "\n",
    "1. yellow_hat\n",
    "2. blue_sunglasses\n",
    "3. green_turban\n",
    "4. yellow_hat + blue_sunglasses\n",
    "5. green_turban + blue_sunglasses\n",
    "\n",
    "# 출처\n",
    "https://programmers.co.kr/learn/courses/30/lessons/42578?language=python3"
   ]
  },
  {
   "cell_type": "code",
   "execution_count": 11,
   "metadata": {},
   "outputs": [
    {
     "data": {
      "text/plain": [
       "5"
      ]
     },
     "execution_count": 11,
     "metadata": {},
     "output_type": "execute_result"
    }
   ],
   "source": [
    "def solution(clothes):\n",
    "    answer={}\n",
    "    count=1\n",
    "    for i in clothes:\n",
    "        if i[1] in answer:\n",
    "            answer[i[1]]+=1\n",
    "        else:\n",
    "            answer[i[1]]=1\n",
    "            \n",
    "    for i in answer.values():\n",
    "        count*=(i+1)\n",
    "    return count-1\n",
    "\n",
    "solution([[\"yellow_hat\", \"headgear\"], [\"blue_sunglasses\", \"eyewear\"], [\"green_turban\", \"headgear\"]])"
   ]
  },
  {
   "cell_type": "markdown",
   "metadata": {},
   "source": [
    "# 풀이\n",
    "빈 딕셔너리를 지정해주고 for문을 돌려서 clothes내의 i값 중 i[1]인 옷감의 종류를 해시테이블이 될 빈 딕셔너리의 키 값으로 설정을 해준다. 각 종류별로 count에 1을 더한 값을 곱해준다. 옷감의 종류가 3종류고 각각 2가지씩 있다면 안입거나 첫번째걸 입거나 두번째걸 입거나 3가지 선택지가 있기 때문에 +1을 한 값을 곱해준다. 전부 벗을 수는 없기 떄문에 전부 벗은 값을 하나 빼준 값을 반환한다.\n",
    "\n",
    "# 느낀점\n",
    "해시 테이블의 키 값을 설정해주는 과정에서 조금 애를 먹었으나 해시 테이블을 연습할 수 있는 좋은 문제였다. 마지막에 옷을 입을 수 있는 가짓수 계산을 구하는 것도 몇번 시행착오가 있었는데, 차분하게 생각을 해보니까 적절한 식을 구할 수 있었다. "
   ]
  }
 ],
 "metadata": {
  "kernelspec": {
   "display_name": "Python 3",
   "language": "python",
   "name": "python3"
  },
  "language_info": {
   "codemirror_mode": {
    "name": "ipython",
    "version": 3
   },
   "file_extension": ".py",
   "mimetype": "text/x-python",
   "name": "python",
   "nbconvert_exporter": "python",
   "pygments_lexer": "ipython3",
   "version": "3.8.5"
  }
 },
 "nbformat": 4,
 "nbformat_minor": 4
}
