{
 "cells": [
  {
   "cell_type": "markdown",
   "metadata": {},
   "source": [
    "# 문제 설명\n",
    "배열 array의 i번째 숫자부터 j번째 숫자까지 자르고 정렬했을 때, k번째에 있는 수를 구하려 합니다.\n",
    "\n",
    "예를 들어 array가 [1, 5, 2, 6, 3, 7, 4], i = 2, j = 5, k = 3이라면\n",
    "\n",
    "array의 2번째부터 5번째까지 자르면 [5, 2, 6, 3]입니다.\n",
    "1에서 나온 배열을 정렬하면 [2, 3, 5, 6]입니다.\n",
    "2에서 나온 배열의 3번째 숫자는 5입니다.\n",
    "배열 array, [i, j, k]를 원소로 가진 2차원 배열 commands가 매개변수로 주어질 때, commands의 모든 원소에 대해 앞서 설명한 연산을 적용했을 때 나온 결과를 배열에 담아 return 하도록 solution 함수를 작성해주세요.\n",
    "\n",
    "# 제한사항\n",
    "array의 길이는 1 이상 100 이하입니다.\n",
    "array의 각 원소는 1 이상 100 이하입니다.\n",
    "commands의 길이는 1 이상 50 이하입니다.\n",
    "commands의 각 원소는 길이가 3입니다.\n",
    "\n",
    "# 입출력 예 설명\n",
    "[1, 5, 2, 6, 3, 7, 4]를 2번째부터 5번째까지 자른 후 정렬합니다. [2, 3, 5, 6]의 세 번째 숫자는 5입니다.\n",
    "[1, 5, 2, 6, 3, 7, 4]를 4번째부터 4번째까지 자른 후 정렬합니다. [6]의 첫 번째 숫자는 6입니다.\n",
    "[1, 5, 2, 6, 3, 7, 4]를 1번째부터 7번째까지 자릅니다. [1, 2, 3, 4, 5, 6, 7]의 세 번째 숫자는 3입니다.\n",
    "\n",
    "# 출처\n",
    "https://programmers.co.kr/learn/courses/30/lessons/42748?language=python3"
   ]
  },
  {
   "cell_type": "code",
   "execution_count": 4,
   "metadata": {},
   "outputs": [
    {
     "data": {
      "text/plain": [
       "[5, 6, 3]"
      ]
     },
     "execution_count": 4,
     "metadata": {},
     "output_type": "execute_result"
    }
   ],
   "source": [
    "array=[1, 5, 2, 6, 3, 7, 4]\n",
    "commands=[[2, 5, 3], [4, 4, 1], [1, 7, 3]]\n",
    "\n",
    "def solution(array, commands):\n",
    "    answer=[]\n",
    "    #for문으로 commands안에 nested되어있는 리스트를 i에 지정해준다\n",
    "    for i in commands:\n",
    "        #sub_array를 만들어주고 array의 문제에서 말하는 i값과  j값은 각각 i[0]-1과 i[1]이다. 그렇기 때문에 이에 해당하는 값으로 sub_array를 설정\n",
    "        sub_array=array[i[0]-1:i[1]]\n",
    "        #sub_array를 소팅해준다\n",
    "        sub_array.sort()\n",
    "        #answer에 sub_array의 k에 해당하는 값을 append해준다\n",
    "        answer.append(sub_array[i[2]-1])\n",
    "    return answer\n",
    "solution(array, commands)"
   ]
  },
  {
   "cell_type": "markdown",
   "metadata": {},
   "source": [
    "for문 하나만으로 간단하게 문제를 푸는 것이 가능했다. 처음에 i와 j의 조건을 설정해주는 것에서 조금 해매기는 했지만, 비교적 문제를 수월하게 풀었다."
   ]
  }
 ],
 "metadata": {
  "kernelspec": {
   "display_name": "Python 3",
   "language": "python",
   "name": "python3"
  },
  "language_info": {
   "codemirror_mode": {
    "name": "ipython",
    "version": 3
   },
   "file_extension": ".py",
   "mimetype": "text/x-python",
   "name": "python",
   "nbconvert_exporter": "python",
   "pygments_lexer": "ipython3",
   "version": "3.8.5"
  }
 },
 "nbformat": 4,
 "nbformat_minor": 4
}
