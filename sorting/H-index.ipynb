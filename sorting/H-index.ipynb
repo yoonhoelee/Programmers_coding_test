{
 "cells": [
  {
   "cell_type": "markdown",
   "metadata": {},
   "source": [
    "# 문제 설명\n",
    "H-Index는 과학자의 생산성과 영향력을 나타내는 지표입니다. 어느 과학자의 H-Index를 나타내는 값인 h를 구하려고 합니다. 위키백과에 따르면, H-Index는 다음과 같이 구합니다.\n",
    "\n",
    "어떤 과학자가 발표한 논문 n편 중, h번 이상 인용된 논문이 h편 이상이고 나머지 논문이 h번 이하 인용되었다면 h의 최댓값이 이 과학자의 H-Index입니다.\n",
    "\n",
    "어떤 과학자가 발표한 논문의 인용 횟수를 담은 배열 citations가 매개변수로 주어질 때, 이 과학자의 H-Index를 return 하도록 solution 함수를 작성해주세요.\n",
    "\n",
    "# 제한사항\n",
    "과학자가 발표한 논문의 수는 1편 이상 1,000편 이하입니다.\n",
    "논문별 인용 횟수는 0회 이상 10,000회 이하입니다.\n",
    "\n",
    "# 예시\n",
    "citations=[3,0,6,1,5]\n",
    "return=3\n",
    "\n",
    "# 입출력 예 설명\n",
    "이 과학자가 발표한 논문의 수는 5편이고, 그중 3편의 논문은 3회 이상 인용되었습니다. 그리고 나머지 2편의 논문은 3회 이하 인용되었기 때문에 이 과학자의 H-Index는 3입니다.\n",
    "\n",
    "# 출처\n",
    "https://programmers.co.kr/learn/courses/30/lessons/42747?language=python3"
   ]
  },
  {
   "cell_type": "code",
   "execution_count": 3,
   "metadata": {},
   "outputs": [
    {
     "data": {
      "text/plain": [
       "3"
      ]
     },
     "execution_count": 3,
     "metadata": {},
     "output_type": "execute_result"
    }
   ],
   "source": [
    "def solution(citation):\n",
    "    citation.sort()\n",
    "    num=len(citation)\n",
    "    for i in range(num):\n",
    "        if citation[i]>=num-i\n",
    "            return num-i\n",
    "    return 0\n",
    "\n",
    "solution([3,0,6,1,5])"
   ]
  },
  {
   "cell_type": "markdown",
   "metadata": {},
   "source": [
    "# 풀이 설명\n",
    "샘플로 주어진 리스트를 정렬하게 된다면 [0,1,3,5,6]이 되며 num은 5가 된다. 이때 citation의 i번째 숫자를 봤을때 citation의 길이에서 그 숫자를 뺀것보다 크게 된다면 H의조건이 충족이 되었다고 볼 수 있다(5는 i는 3이지만 num-i는 1이기때문에 조건이 충족되지 않는다). 작은 것 부터 순차적으로 진행이 되기 때문에 이 조건이 충족되는 값중 가장 큰 값을 반환해줄 것이다. \n",
    "\n",
    "# 느낀점\n",
    "사실 sort를 어떻게 사용해야 하는지까지는 금방 알았지만 num-i를 생각해내기 까지는 오랜 시간이 걸렸던 것 같다. 아직 더 많이 공부를 해봐야할 것 같다."
   ]
  }
 ],
 "metadata": {
  "kernelspec": {
   "display_name": "Python 3",
   "language": "python",
   "name": "python3"
  },
  "language_info": {
   "codemirror_mode": {
    "name": "ipython",
    "version": 3
   },
   "file_extension": ".py",
   "mimetype": "text/x-python",
   "name": "python",
   "nbconvert_exporter": "python",
   "pygments_lexer": "ipython3",
   "version": "3.8.5"
  }
 },
 "nbformat": 4,
 "nbformat_minor": 4
}
