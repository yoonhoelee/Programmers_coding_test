{
 "cells": [
  {
   "cell_type": "markdown",
   "metadata": {},
   "source": [
    "# 문제 설명\n",
    "어떤 숫자에서 k개의 수를 제거했을 때 얻을 수 있는 가장 큰 숫자를 구하려 합니다.\n",
    "\n",
    "예를 들어, 숫자 1924에서 수 두 개를 제거하면 [19, 12, 14, 92, 94, 24] 를 만들 수 있습니다. 이 중 가장 큰 숫자는 94 입니다.\n",
    "\n",
    "문자열 형식으로 숫자 number와 제거할 수의 개수 k가 solution 함수의 매개변수로 주어집니다. number에서 k 개의 수를 제거했을 때 만들 수 있는 수 중 가장 큰 숫자를 문자열 형태로 return 하도록 solution 함수를 완성하세요.\n",
    "\n",
    "# 제한 조건\n",
    "number는 1자리 이상, 1,000,000자리 이하인 숫자입니다.\n",
    "k는 1 이상 number의 자릿수 미만인 자연수입니다.\n",
    "\n",
    "number=\"1924\"\n",
    "k=2\n",
    "return=94\n",
    "\n",
    "# 출처\n",
    "https://programmers.co.kr/learn/courses/30/lessons/42883?language=python3"
   ]
  },
  {
   "cell_type": "code",
   "execution_count": 3,
   "metadata": {},
   "outputs": [
    {
     "data": {
      "text/plain": [
       "'94'"
      ]
     },
     "execution_count": 3,
     "metadata": {},
     "output_type": "execute_result"
    }
   ],
   "source": [
    "def solution(number, k):\n",
    "    stack = [number[0]]\n",
    "    for num in number[1:]:\n",
    "        while len(stack) > 0 and stack[-1] < num and k > 0: \n",
    "            k -= 1\n",
    "            stack.pop()\n",
    "        stack.append(num)\n",
    "    if k != 0: \n",
    "        stack = stack[:-k]\n",
    "    return ''.join(stack)\n",
    "\n",
    "solution(\"1924\", 2)"
   ]
  },
  {
   "cell_type": "markdown",
   "metadata": {},
   "source": [
    "# 풀이\n",
    "스택의 개념과 반복문을 사용해서 푸는 방식이다. 스택에 입력값을 순서대로 삽입하고, 들어오는 값이 스택값보다 크면 기존 값을 제거하고 새로운 값으로 바꾼다. 반복문을 통해서 이 과정을 k값에서 1을 뺴가면서 반복 진행한다. 마지막 if문은 \"10000\", 2와 같은 예외 사항을 처리하기 위한 것이다.\n",
    "\n",
    "# 느낀점\n",
    "문제를 처음 받았을때 코드로 짜는것이 어려울 것이라고 생각은 못했다. 하지만, 결국 스스로 코드로 구현하는데 실패 하였다. 처음에 모든 변수들을 만들고 그중 max를 해 가장 큰값을 반환해주는 방식으로 구현을 해볼까 했지만, 코드가 너무 비효율적일 것이라는 생각이 들었다. "
   ]
  }
 ],
 "metadata": {
  "kernelspec": {
   "display_name": "Python 3",
   "language": "python",
   "name": "python3"
  },
  "language_info": {
   "codemirror_mode": {
    "name": "ipython",
    "version": 3
   },
   "file_extension": ".py",
   "mimetype": "text/x-python",
   "name": "python",
   "nbconvert_exporter": "python",
   "pygments_lexer": "ipython3",
   "version": "3.8.5"
  }
 },
 "nbformat": 4,
 "nbformat_minor": 4
}
