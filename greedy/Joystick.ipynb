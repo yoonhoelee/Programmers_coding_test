{
 "cells": [
  {
   "cell_type": "markdown",
   "metadata": {},
   "source": [
    "# 문제 설명\n",
    "조이스틱으로 알파벳 이름을 완성하세요. 맨 처음엔 A로만 이루어져 있습니다.\n",
    "ex) 완성해야 하는 이름이 세 글자면 AAA, 네 글자면 AAAA\n",
    "\n",
    "조이스틱을 각 방향으로 움직이면 아래와 같습니다.\n",
    "\n",
    "▲ - 다음 알파벳\n",
    "▼ - 이전 알파벳 (A에서 아래쪽으로 이동하면 Z로)\n",
    "◀ - 커서를 왼쪽으로 이동 (첫 번째 위치에서 왼쪽으로 이동하면 마지막 문자에 커서)\n",
    "▶ - 커서를 오른쪽으로 이동\n",
    "\n",
    "예를 들어 아래의 방법으로 JAZ를 만들 수 있습니다.\n",
    "- 첫 번째 위치에서 조이스틱을 위로 9번 조작하여 J를 완성합니다.\n",
    "- 조이스틱을 왼쪽으로 1번 조작하여 커서를 마지막 문자 위치로 이동시킵니다.\n",
    "- 마지막 위치에서 조이스틱을 아래로 1번 조작하여 Z를 완성합니다.\n",
    "따라서 11번 이동시켜 \"JAZ\"를 만들 수 있고, 이때가 최소 이동입니다.\n",
    "\n",
    "만들고자 하는 이름 name이 매개변수로 주어질 때, 이름에 대해 조이스틱 조작 횟수의 최솟값을 return 하도록 solution 함수를 만드세요.\n",
    "\n",
    "# 제한 사항\n",
    "name은 알파벳 대문자로만 이루어져 있습니다.\n",
    "name의 길이는 1 이상 20 이하입니다.\n",
    "\n",
    "# 입출력 예\n",
    "name=[\"JEROEN\"]\n",
    "return=56\n",
    "\n",
    "# 출처\n",
    "https://programmers.co.kr/learn/courses/30/lessons/42860?language=python3"
   ]
  },
  {
   "cell_type": "code",
   "execution_count": 3,
   "metadata": {},
   "outputs": [
    {
     "name": "stdout",
     "output_type": "stream",
     "text": [
      "56\n",
      "23\n"
     ]
    }
   ],
   "source": [
    "def solution(name):\n",
    "    make_name = [min(ord(i) - ord(\"A\"), ord(\"Z\") - ord(i)+1) for i in name]\n",
    "    idx, answer = 0, 0\n",
    "    while True:\n",
    "        answer += make_name[idx]\n",
    "        make_name[idx] = 0\n",
    "        if sum(make_name) ==0:\n",
    "            break\n",
    "        left, right = 1, 1\n",
    "        while make_name[idx - left] ==0:\n",
    "            left +=1\n",
    "        while make_name[idx + right] ==0:\n",
    "            right +=1\n",
    "        answer += left if left < right else right\n",
    "        idx += -left if left < right else right\n",
    "    return answer\n",
    "\n",
    "print(solution(\"JEROEN\"))\n",
    "print(solution(\"JAN\"))"
   ]
  },
  {
   "cell_type": "markdown",
   "metadata": {},
   "source": [
    "# 풀이\n",
    "make_name으로 각 알파벳에 대해서 최소 이동값을 구한다. 각 값이 0이면 바꿀 필요가 없다는 것을 의미하며, 리스트의 모든 값들이 0이 될때까지 카운트를 올리며 이 값을 리스트의 모든 값들이 0이 될떄까지 반복을 한다.\n",
    "\n",
    "# 느낀점\n",
    "사실 이 문제를 어떻게 해야될지 처음에는 감이 잡히지 않았다. 딕셔너리 형태로 알파벳에 해당하는 키 값들을 매핑을 해야하나 고민을 했었는데, ord 함수로 비교적 간단하게 이것을 해결할 수 있다는 것을 알게되었다. 아직 코딩 실력이 많이 부족한 것 같다. 더 많은 공부가 필요한 것 같다."
   ]
  }
 ],
 "metadata": {
  "kernelspec": {
   "display_name": "Python 3",
   "language": "python",
   "name": "python3"
  },
  "language_info": {
   "codemirror_mode": {
    "name": "ipython",
    "version": 3
   },
   "file_extension": ".py",
   "mimetype": "text/x-python",
   "name": "python",
   "nbconvert_exporter": "python",
   "pygments_lexer": "ipython3",
   "version": "3.8.5"
  }
 },
 "nbformat": 4,
 "nbformat_minor": 4
}
