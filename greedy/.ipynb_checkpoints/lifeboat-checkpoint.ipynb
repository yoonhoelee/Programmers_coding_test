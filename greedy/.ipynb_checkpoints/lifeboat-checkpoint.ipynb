{
 "cells": [
  {
   "cell_type": "markdown",
   "metadata": {},
   "source": [
    "# 문제 설명\n",
    "무인도에 갇힌 사람들을 구명보트를 이용하여 구출하려고 합니다. 구명보트는 작아서 한 번에 최대 2명씩 밖에 탈 수 없고, 무게 제한도 있습니다.\n",
    "\n",
    "예를 들어, 사람들의 몸무게가 [70kg, 50kg, 80kg, 50kg]이고 구명보트의 무게 제한이 100kg이라면 2번째 사람과 4번째 사람은 같이 탈 수 있지만 1번째 사람과 3번째 사람의 무게의 합은 150kg이므로 구명보트의 무게 제한을 초과하여 같이 탈 수 없습니다.\n",
    "\n",
    "구명보트를 최대한 적게 사용하여 모든 사람을 구출하려고 합니다.\n",
    "\n",
    "사람들의 몸무게를 담은 배열 people과 구명보트의 무게 제한 limit가 매개변수로 주어질 때, 모든 사람을 구출하기 위해 필요한 구명보트 개수의 최솟값을 return 하도록 solution 함수를 작성해주세요.\n",
    "\n",
    "# 제한사항\n",
    "무인도에 갇힌 사람은 1명 이상 50,000명 이하입니다.\n",
    "각 사람의 몸무게는 40kg 이상 240kg 이하입니다.\n",
    "구명보트의 무게 제한은 40kg 이상 240kg 이하입니다.\n",
    "구명보트의 무게 제한은 항상 사람들의 몸무게 중 최댓값보다 크게 주어지므로 사람들을 구출할 수 없는 경우는 없습니다.\n",
    "\n",
    "people=[70,50,80,50]\n",
    "limit=100\n",
    "return=3\n",
    "\n",
    "# 출처\n",
    "https://programmers.co.kr/learn/courses/30/lessons/42885?language=python3"
   ]
  },
  {
   "cell_type": "code",
   "execution_count": 5,
   "metadata": {},
   "outputs": [
    {
     "data": {
      "text/plain": [
       "3"
      ]
     },
     "execution_count": 5,
     "metadata": {},
     "output_type": "execute_result"
    }
   ],
   "source": [
    "def solution(people, limit):\n",
    "    answer=0\n",
    "    people.sort()\n",
    "    i=0\n",
    "    j=len(people)-1\n",
    "    while i<=j:\n",
    "        answer+=1\n",
    "        if people[i]+people[j]<=limit:\n",
    "            i+=1\n",
    "        j-=1\n",
    "    return answer\n",
    "\n",
    "solution([70,50,80,50], 100)"
   ]
  },
  {
   "cell_type": "markdown",
   "metadata": {},
   "source": [
    "# 풀이\n",
    "people을 정렬한다음 몸무게가 가장 큰 사람과 가장 작은 사람의 몸무게를 보고 둘의 합이 limit보다 작다면 둘다 태우고 answer의 값을 1 더해주고 그렇지 않다면 가장 큰 사람만 태우는 방식이다.\n",
    "\n",
    "# 느낀점\n",
    "pop을 사용해서 풀었으나 효율성 측면에서 좋지 못하다는 평가를 받았다. 다른 사람의 풀이를 보니 어차피 몇명을 태울 수 있는지 값을 구하는 것이기 때문에 굳이 pop을 사용하지 않고 카운트를 올리는 방식으로도 해결이 가능하다는 것을 알게 되었다. 역시 세상에는 똑똑한 사람들이 정말 많은 것 같다."
   ]
  }
 ],
 "metadata": {
  "kernelspec": {
   "display_name": "Python 3",
   "language": "python",
   "name": "python3"
  },
  "language_info": {
   "codemirror_mode": {
    "name": "ipython",
    "version": 3
   },
   "file_extension": ".py",
   "mimetype": "text/x-python",
   "name": "python",
   "nbconvert_exporter": "python",
   "pygments_lexer": "ipython3",
   "version": "3.8.5"
  }
 },
 "nbformat": 4,
 "nbformat_minor": 4
}
