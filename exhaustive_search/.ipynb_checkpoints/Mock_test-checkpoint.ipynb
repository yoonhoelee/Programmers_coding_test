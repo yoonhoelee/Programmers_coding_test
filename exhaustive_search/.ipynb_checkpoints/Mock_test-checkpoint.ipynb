{
 "cells": [
  {
   "cell_type": "markdown",
   "metadata": {},
   "source": [
    "# 문제 설명\n",
    "수포자는 수학을 포기한 사람의 준말입니다. 수포자 삼인방은 모의고사에 수학 문제를 전부 찍으려 합니다. 수포자는 1번 문제부터 마지막 문제까지 다음과 같이 찍습니다.\n",
    "\n",
    "1번 수포자가 찍는 방식: 1, 2, 3, 4, 5, 1, 2, 3, 4, 5, ...\n",
    "2번 수포자가 찍는 방식: 2, 1, 2, 3, 2, 4, 2, 5, 2, 1, 2, 3, 2, 4, 2, 5, ...\n",
    "3번 수포자가 찍는 방식: 3, 3, 1, 1, 2, 2, 4, 4, 5, 5, 3, 3, 1, 1, 2, 2, 4, 4, 5, 5, ...\n",
    "\n",
    "1번 문제부터 마지막 문제까지의 정답이 순서대로 들은 배열 answers가 주어졌을 때, 가장 많은 문제를 맞힌 사람이 누구인지 배열에 담아 return 하도록 solution 함수를 작성해주세요.\n",
    "\n",
    "# 제한 조건\n",
    "시험은 최대 10,000 문제로 구성되어있습니다.\n",
    "문제의 정답은 1, 2, 3, 4, 5중 하나입니다.\n",
    "가장 높은 점수를 받은 사람이 여럿일 경우, return하는 값을 오름차순 정렬해주세요.\n",
    "\n",
    "answers=[1,2,3,4,5]\n",
    "return=[1]\n",
    "\n",
    "# 입출력 예 설명\n",
    "입출력 예 #1\n",
    "\n",
    "수포자 1은 모든 문제를 맞혔습니다.\n",
    "수포자 2는 모든 문제를 틀렸습니다.\n",
    "수포자 3은 모든 문제를 틀렸습니다.\n",
    "따라서 가장 문제를 많이 맞힌 사람은 수포자 1입니다.\n",
    "\n",
    "입출력 예 #2\n",
    "\n",
    "모든 사람이 2문제씩을 맞췄습니다.\n",
    "\n",
    "# 출처\n",
    "https://programmers.co.kr/learn/courses/30/lessons/42840?language=python3"
   ]
  },
  {
   "cell_type": "code",
   "execution_count": 5,
   "metadata": {},
   "outputs": [
    {
     "data": {
      "text/plain": [
       "[1, 2, 3]"
      ]
     },
     "execution_count": 5,
     "metadata": {},
     "output_type": "execute_result"
    }
   ],
   "source": [
    "def solution(answers):\n",
    "    answer=[]\n",
    "    p1=[1,2,3,4,5]\n",
    "    p2=[2,1,2,3,2,4,2,5]\n",
    "    p3=[3,3,1,1,2,2,4,4,5,5]\n",
    "    c1=0\n",
    "    c2=0\n",
    "    c3=0\n",
    "    for i in range(len(answers)):\n",
    "        if answers[i]==p1[i%5]:\n",
    "            c1+=1\n",
    "        if answers[i]==p2[i%8]:\n",
    "            c2+=1\n",
    "        if answers[i]==p3[i%10]:\n",
    "            c3+=1\n",
    "    x=max(c1,c2,c3)\n",
    "    if x==c1:\n",
    "        answer.append(1)\n",
    "    if x==c2:\n",
    "        answer.append(2)\n",
    "    if x==c3:\n",
    "        answer.append(3)\n",
    "    return answer\n",
    "\n",
    "solution([1,3,2,4,2])"
   ]
  },
  {
   "cell_type": "markdown",
   "metadata": {},
   "source": [
    "# 풀이\n",
    "1번 수포자는 [1,2,3,4,5] 5개의 숫자를 순차적으로, 2번 수포자는 [2,1,2,3,2,4,2,5] 8개의 숫자를 순차적으로, 3번 수포자는 [3,3,1,1,2,2,4,4,5,5] 10개의 숫자를 순차적으로 반복적으로 찍게 된다. 이때 수포자들이 i번째 문제를 정답으로 맞춘 것은 각각, i%5, i%8, i%10이다. 맞은 문제에 해당해서 카운트를 올려주고 이 중 최고값을 반환해준다.\n",
    "\n",
    "# 느낀점\n",
    "레벨 1의 문제여서 그런지 비교적 수월하게 풀 수 있었다. 다른 사람들의 풀이를 봤을때 enumerate를 활용해 보다 짧은 코드로 효율적으로 해결하는 것 같다. Enumerate 함수를 조금 더 공부해봐야 할 것 같다."
   ]
  }
 ],
 "metadata": {
  "kernelspec": {
   "display_name": "Python 3",
   "language": "python",
   "name": "python3"
  },
  "language_info": {
   "codemirror_mode": {
    "name": "ipython",
    "version": 3
   },
   "file_extension": ".py",
   "mimetype": "text/x-python",
   "name": "python",
   "nbconvert_exporter": "python",
   "pygments_lexer": "ipython3",
   "version": "3.8.5"
  }
 },
 "nbformat": 4,
 "nbformat_minor": 4
}
