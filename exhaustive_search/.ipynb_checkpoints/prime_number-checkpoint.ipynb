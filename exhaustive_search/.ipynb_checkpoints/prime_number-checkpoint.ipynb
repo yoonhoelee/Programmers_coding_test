{
 "cells": [
  {
   "cell_type": "markdown",
   "metadata": {},
   "source": [
    "# 문제 설명\n",
    "한자리 숫자가 적힌 종이 조각이 흩어져있습니다. 흩어진 종이 조각을 붙여 소수를 몇 개 만들 수 있는지 알아내려 합니다.\n",
    "\n",
    "각 종이 조각에 적힌 숫자가 적힌 문자열 numbers가 주어졌을 때, 종이 조각으로 만들 수 있는 소수가 몇 개인지 return 하도록 solution 함수를 완성해주세요.\n",
    "\n",
    "제한사항\n",
    "numbers는 길이 1 이상 7 이하인 문자열입니다.\n",
    "numbers는 0~9까지 숫자만으로 이루어져 있습니다.\n",
    "013은 0, 1, 3 숫자가 적힌 종이 조각이 흩어져있다는 의미입니다.\n",
    "\n",
    "# 입출력 예\n",
    "numbers=\"17\"\n",
    "return=3\n",
    "numbers=\"011\"\n",
    "return=2\n",
    "\n",
    "# 입출력 예 설명\n",
    "예제 #1\n",
    "[1, 7]으로는 소수 [7, 17, 71]를 만들 수 있습니다.\n",
    "\n",
    "예제 #2\n",
    "[0, 1, 1]으로는 소수 [11, 101]를 만들 수 있습니다."
   ]
  },
  {
   "cell_type": "code",
   "execution_count": 25,
   "metadata": {},
   "outputs": [
    {
     "data": {
      "text/plain": [
       "3"
      ]
     },
     "execution_count": 25,
     "metadata": {},
     "output_type": "execute_result"
    }
   ],
   "source": [
    "from itertools import permutations\n",
    "\n",
    "def solution(numbers):\n",
    "    answer=[]\n",
    "    for i in range(1,len(numbers)+1):\n",
    "        for j in permutations(list(numbers),i):\n",
    "            x=int(\"\".join(j))\n",
    "            for k in range(2, x):\n",
    "                if x % k==0:\n",
    "                    break\n",
    "            else:\n",
    "                if x not in answer and x!=0 and x!=1:\n",
    "                    answer.append(x)\n",
    "    return len(answer)\n",
    "\n",
    "solution(\"17\")"
   ]
  },
  {
   "cell_type": "markdown",
   "metadata": {},
   "source": [
    "# 풀이\n",
    "numbers를 한자리부터 numbers의 길이인 수만큼 permutation을 통해서 순열에 넣어준다. 이렇게 만든 숫자가 소수인지 검사를 해주고 소수이면 빈 리스트에 추가해준다. 함수의 리턴값은 소수가 들어있는 리스트인 answer의 길이를 리턴해준다.\n",
    "\n",
    "# 느낀점\n",
    "처음에 for문을 하나만 써서 원하는 값을 얻어내지 못했었다. 차분하게 그림을 그려가며 코드를 짜보니 이해를 할 수 있었다."
   ]
  }
 ],
 "metadata": {
  "kernelspec": {
   "display_name": "Python 3",
   "language": "python",
   "name": "python3"
  },
  "language_info": {
   "codemirror_mode": {
    "name": "ipython",
    "version": 3
   },
   "file_extension": ".py",
   "mimetype": "text/x-python",
   "name": "python",
   "nbconvert_exporter": "python",
   "pygments_lexer": "ipython3",
   "version": "3.8.5"
  }
 },
 "nbformat": 4,
 "nbformat_minor": 4
}
