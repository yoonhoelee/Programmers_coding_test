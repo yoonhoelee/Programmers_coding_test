{
 "cells": [
  {
   "cell_type": "markdown",
   "metadata": {},
   "source": [
    "# 문제 설명\n",
    "매운 것을 좋아하는 Leo는 모든 음식의 스코빌 지수를 K 이상으로 만들고 싶습니다. 모든 음식의 스코빌 지수를 K 이상으로 만들기 위해 Leo는 스코빌 지수가 가장 낮은 두 개의 음식을 아래와 같이 특별한 방법으로 섞어 새로운 음식을 만듭니다.\n",
    "\n",
    "# 섞은 음식의 스코빌 지수 = 가장 맵지 않은 음식의 스코빌 지수 + (두 번째로 맵지 않은 음식의 스코빌 지수 * 2)\n",
    "\n",
    "Leo는 모든 음식의 스코빌 지수가 K 이상이 될 때까지 반복하여 섞습니다.\n",
    "Leo가 가진 음식의 스코빌 지수를 담은 배열 scoville과 원하는 스코빌 지수 K가 주어질 때, 모든 음식의 스코빌 지수를 K 이상으로 만들기 위해 섞어야 하는 최소 횟수를 return 하도록 solution 함수를 작성해주세요.\n",
    "\n",
    "# 제한 사항\n",
    "scoville의 길이는 2 이상 1,000,000 이하입니다.\n",
    "K는 0 이상 1,000,000,000 이하입니다.\n",
    "scoville의 원소는 각각 0 이상 1,000,000 이하입니다.\n",
    "모든 음식의 스코빌 지수를 K 이상으로 만들 수 없는 경우에는 -1을 return 합니다.\n",
    "\n",
    "scoville=[1,2,3,9,10,12]\n",
    "k=7\n",
    "return=2\n",
    "\n",
    "# 입출력 예 설명\n",
    "1. 스코빌 지수가 1인 음식과 2인 음식을 섞으면 음식의 스코빌 지수가 아래와 같이 됩니다. 새로운 음식의 스코빌 지수 = 1 + (2 * 2) = 5. 가진 음식의 스코빌 지수 = [5, 3, 9, 10, 12]\n",
    "\n",
    "2. 스코빌 지수가 3인 음식과 5인 음식을 섞으면 음식의 스코빌 지수가 아래와 같이 됩니다. 새로운 음식의 스코빌 지수 = 3 + (5 * 2) = 13. 가진 음식의 스코빌 지수 = [13, 9, 10, 12]\n",
    "\n",
    "모든 음식의 스코빌 지수가 7 이상이 되었고 이때 섞은 횟수는 2회입니다."
   ]
  },
  {
   "cell_type": "code",
   "execution_count": 9,
   "metadata": {},
   "outputs": [
    {
     "name": "stdout",
     "output_type": "stream",
     "text": [
      "2\n",
      "-1\n"
     ]
    }
   ],
   "source": [
    "def solution(scoville, K):\n",
    "    answer=0\n",
    "    while min(scoville)<K:\n",
    "        scoville.sort()\n",
    "        try:\n",
    "            scoville.append(scoville.pop(0) + (scoville.pop(0) * 2))\n",
    "            answer+=1\n",
    "        except IndexError:\n",
    "            return -1\n",
    "    return answer\n",
    "\n",
    "print(solution([1,2,3,9,10,12], 7))\n",
    "print(solution([1,2,3,9,10,12], 999999))"
   ]
  },
  {
   "cell_type": "markdown",
   "metadata": {},
   "source": [
    "# 문제 해석\n",
    "scoville의 가장 작은값이 K보다 작을때 도는 반복문을 설정하고, 계속 리스트를 오름차순으로 정렬하게 한다. 이때 리스트를 두번 pop시켜 앞의 두값을 뽑아내고 조건에 맞는 값에 값을 변경해준뒤 이 값을 리스트에 append해준다. 이 과정을 진행하고 answer의 count를 1 늘려준다. try/except 문으로 K값을 실행시키지 못했을때는 -1을 return하게 설정해 주고, 실행이 될 경우 answer을 반환하게 해준다.\n",
    "\n",
    "# 느낀점\n",
    "이번 문제는 조금 수월하게 풀었다. 처음에는 조건을 잘못해석하여 scoville.pop(0)+scoville[1]*2로 풀었는데 원하는 값을 얻지 못하여 다시 생각해보게 되었다. 파이썬의 sort 기능이 정말 다양하게 사용될 수 있다는 것을 다시 한번 깨닫는다."
   ]
  }
 ],
 "metadata": {
  "kernelspec": {
   "display_name": "Python 3",
   "language": "python",
   "name": "python3"
  },
  "language_info": {
   "codemirror_mode": {
    "name": "ipython",
    "version": 3
   },
   "file_extension": ".py",
   "mimetype": "text/x-python",
   "name": "python",
   "nbconvert_exporter": "python",
   "pygments_lexer": "ipython3",
   "version": "3.8.5"
  }
 },
 "nbformat": 4,
 "nbformat_minor": 4
}
